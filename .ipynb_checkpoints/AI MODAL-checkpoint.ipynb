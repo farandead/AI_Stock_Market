{
 "cells": [
  {
   "cell_type": "code",
   "execution_count": 1,
   "id": "b92dbc67",
   "metadata": {},
   "outputs": [
    {
     "name": "stderr",
     "output_type": "stream",
     "text": [
      "C:\\Users\\FZ\\anaconda3\\lib\\site-packages\\yfinance\\base.py:48: FutureWarning: The default dtype for empty Series will be 'object' instead of 'float64' in a future version. Specify a dtype explicitly to silence this warning.\n",
      "  _empty_series = pd.Series()\n"
     ]
    }
   ],
   "source": [
    "import numpy as np\n",
    "import pandas as pd\n",
    "import matplotlib.pyplot as plt\n",
    "import yfinance as yf\n"
   ]
  },
  {
   "cell_type": "code",
   "execution_count": 4,
   "id": "4e78d8be",
   "metadata": {},
   "outputs": [
    {
     "name": "stderr",
     "output_type": "stream",
     "text": [
      "[*********************100%%**********************]  1 of 1 completed\n"
     ]
    }
   ],
   "source": [
    "start = '2012-01-01'\n",
    "end = '2023-12-21'\n",
    "stock = 'META'\n",
    "\n",
    "data = yf.download(stock,start,end)\n",
    "\n"
   ]
  },
  {
   "cell_type": "code",
   "execution_count": 6,
   "id": "0a1d4a04",
   "metadata": {},
   "outputs": [],
   "source": [
    "#to reset the index to numbers instead of the dates\n",
    "data.reset_index(inplace=True)"
   ]
  },
  {
   "cell_type": "code",
   "execution_count": 7,
   "id": "04091db1",
   "metadata": {},
   "outputs": [
    {
     "data": {
      "text/html": [
       "<div>\n",
       "<style scoped>\n",
       "    .dataframe tbody tr th:only-of-type {\n",
       "        vertical-align: middle;\n",
       "    }\n",
       "\n",
       "    .dataframe tbody tr th {\n",
       "        vertical-align: top;\n",
       "    }\n",
       "\n",
       "    .dataframe thead th {\n",
       "        text-align: right;\n",
       "    }\n",
       "</style>\n",
       "<table border=\"1\" class=\"dataframe\">\n",
       "  <thead>\n",
       "    <tr style=\"text-align: right;\">\n",
       "      <th></th>\n",
       "      <th>Date</th>\n",
       "      <th>Open</th>\n",
       "      <th>High</th>\n",
       "      <th>Low</th>\n",
       "      <th>Close</th>\n",
       "      <th>Adj Close</th>\n",
       "      <th>Volume</th>\n",
       "    </tr>\n",
       "  </thead>\n",
       "  <tbody>\n",
       "    <tr>\n",
       "      <th>0</th>\n",
       "      <td>2012-05-18</td>\n",
       "      <td>42.049999</td>\n",
       "      <td>45.000000</td>\n",
       "      <td>38.000000</td>\n",
       "      <td>38.230000</td>\n",
       "      <td>38.230000</td>\n",
       "      <td>573576400</td>\n",
       "    </tr>\n",
       "    <tr>\n",
       "      <th>1</th>\n",
       "      <td>2012-05-21</td>\n",
       "      <td>36.529999</td>\n",
       "      <td>36.660000</td>\n",
       "      <td>33.000000</td>\n",
       "      <td>34.029999</td>\n",
       "      <td>34.029999</td>\n",
       "      <td>168192700</td>\n",
       "    </tr>\n",
       "    <tr>\n",
       "      <th>2</th>\n",
       "      <td>2012-05-22</td>\n",
       "      <td>32.610001</td>\n",
       "      <td>33.590000</td>\n",
       "      <td>30.940001</td>\n",
       "      <td>31.000000</td>\n",
       "      <td>31.000000</td>\n",
       "      <td>101786600</td>\n",
       "    </tr>\n",
       "    <tr>\n",
       "      <th>3</th>\n",
       "      <td>2012-05-23</td>\n",
       "      <td>31.370001</td>\n",
       "      <td>32.500000</td>\n",
       "      <td>31.360001</td>\n",
       "      <td>32.000000</td>\n",
       "      <td>32.000000</td>\n",
       "      <td>73600000</td>\n",
       "    </tr>\n",
       "    <tr>\n",
       "      <th>4</th>\n",
       "      <td>2012-05-24</td>\n",
       "      <td>32.950001</td>\n",
       "      <td>33.209999</td>\n",
       "      <td>31.770000</td>\n",
       "      <td>33.029999</td>\n",
       "      <td>33.029999</td>\n",
       "      <td>50237200</td>\n",
       "    </tr>\n",
       "    <tr>\n",
       "      <th>...</th>\n",
       "      <td>...</td>\n",
       "      <td>...</td>\n",
       "      <td>...</td>\n",
       "      <td>...</td>\n",
       "      <td>...</td>\n",
       "      <td>...</td>\n",
       "      <td>...</td>\n",
       "    </tr>\n",
       "    <tr>\n",
       "      <th>2912</th>\n",
       "      <td>2023-12-14</td>\n",
       "      <td>333.850006</td>\n",
       "      <td>334.700012</td>\n",
       "      <td>328.640015</td>\n",
       "      <td>333.170013</td>\n",
       "      <td>333.170013</td>\n",
       "      <td>19607300</td>\n",
       "    </tr>\n",
       "    <tr>\n",
       "      <th>2913</th>\n",
       "      <td>2023-12-15</td>\n",
       "      <td>331.989990</td>\n",
       "      <td>338.660004</td>\n",
       "      <td>331.220001</td>\n",
       "      <td>334.920013</td>\n",
       "      <td>334.920013</td>\n",
       "      <td>30001600</td>\n",
       "    </tr>\n",
       "    <tr>\n",
       "      <th>2914</th>\n",
       "      <td>2023-12-18</td>\n",
       "      <td>337.480011</td>\n",
       "      <td>347.559998</td>\n",
       "      <td>337.019989</td>\n",
       "      <td>344.619995</td>\n",
       "      <td>344.619995</td>\n",
       "      <td>18993900</td>\n",
       "    </tr>\n",
       "    <tr>\n",
       "      <th>2915</th>\n",
       "      <td>2023-12-19</td>\n",
       "      <td>345.579987</td>\n",
       "      <td>353.600006</td>\n",
       "      <td>345.119995</td>\n",
       "      <td>350.359985</td>\n",
       "      <td>350.359985</td>\n",
       "      <td>17729400</td>\n",
       "    </tr>\n",
       "    <tr>\n",
       "      <th>2916</th>\n",
       "      <td>2023-12-20</td>\n",
       "      <td>348.649994</td>\n",
       "      <td>354.959991</td>\n",
       "      <td>347.790009</td>\n",
       "      <td>349.279999</td>\n",
       "      <td>349.279999</td>\n",
       "      <td>16369900</td>\n",
       "    </tr>\n",
       "  </tbody>\n",
       "</table>\n",
       "<p>2917 rows × 7 columns</p>\n",
       "</div>"
      ],
      "text/plain": [
       "           Date        Open        High         Low       Close   Adj Close  \\\n",
       "0    2012-05-18   42.049999   45.000000   38.000000   38.230000   38.230000   \n",
       "1    2012-05-21   36.529999   36.660000   33.000000   34.029999   34.029999   \n",
       "2    2012-05-22   32.610001   33.590000   30.940001   31.000000   31.000000   \n",
       "3    2012-05-23   31.370001   32.500000   31.360001   32.000000   32.000000   \n",
       "4    2012-05-24   32.950001   33.209999   31.770000   33.029999   33.029999   \n",
       "...         ...         ...         ...         ...         ...         ...   \n",
       "2912 2023-12-14  333.850006  334.700012  328.640015  333.170013  333.170013   \n",
       "2913 2023-12-15  331.989990  338.660004  331.220001  334.920013  334.920013   \n",
       "2914 2023-12-18  337.480011  347.559998  337.019989  344.619995  344.619995   \n",
       "2915 2023-12-19  345.579987  353.600006  345.119995  350.359985  350.359985   \n",
       "2916 2023-12-20  348.649994  354.959991  347.790009  349.279999  349.279999   \n",
       "\n",
       "         Volume  \n",
       "0     573576400  \n",
       "1     168192700  \n",
       "2     101786600  \n",
       "3      73600000  \n",
       "4      50237200  \n",
       "...         ...  \n",
       "2912   19607300  \n",
       "2913   30001600  \n",
       "2914   18993900  \n",
       "2915   17729400  \n",
       "2916   16369900  \n",
       "\n",
       "[2917 rows x 7 columns]"
      ]
     },
     "execution_count": 7,
     "metadata": {},
     "output_type": "execute_result"
    }
   ],
   "source": [
    "data"
   ]
  },
  {
   "cell_type": "code",
   "execution_count": 8,
   "id": "f97f9ace",
   "metadata": {},
   "outputs": [
    {
     "data": {
      "image/png": "[encoded data removed]",
      "text/plain": [
       "<Figure size 800x600 with 1 Axes>"
      ]
     },
     "metadata": {},
     "output_type": "display_data"
    }
   ],
   "source": [
    "#calculating the moving average\n",
    "ma_100_days = data.Close.rolling(100).mean()\n",
    "\n",
    "plt.figure(figsize=(8,6))\n",
    "plt.plot(ma_100_days,'r')\n",
    "plt.plot(data.Close,'g')\n",
    "plt.show()\n",
    "\n"
   ]
  },
  {
   "cell_type": "code",
   "execution_count": 9,
   "id": "bdaf2111",
   "metadata": {},
   "outputs": [
    {
     "data": {
      "image/png": "[encoded data removed]",
      "text/plain": [
       "<Figure size 800x600 with 1 Axes>"
      ]
     },
     "metadata": {},
     "output_type": "display_data"
    }
   ],
   "source": [
    "ma_200_days = data.Close.rolling(200).mean()\n",
    "\n",
    "plt.figure(figsize=(8,6))\n",
    "plt.plot(ma_100_days,'r')\n",
    "plt.plot(ma_200_days,'b')\n",
    "plt.plot(data.Close,'g')\n",
    "plt.show()\n"
   ]
  },
  {
   "cell_type": "code",
   "execution_count": 10,
   "id": "d5d441b8",
   "metadata": {},
   "outputs": [],
   "source": [
    "#dropping the NA values in the data\n",
    "data.dropna(inplace=True)\n",
    "\n"
   ]
  },
  {
   "cell_type": "code",
   "execution_count": 15,
   "id": "459ad966",
   "metadata": {},
   "outputs": [],
   "source": [
    "#making training and testing data at 80 20 split\n",
    "data_train = pd.DataFrame(data.Close[0:int(len(data) * 0.80)])\n",
    "data_test = pd.DataFrame(data.Close[int(len(data)*0.80): len(data)])\n"
   ]
  },
  {
   "cell_type": "code",
   "execution_count": 14,
   "id": "ad6440b6",
   "metadata": {},
   "outputs": [
    {
     "data": {
      "text/plain": [
       "2333"
      ]
     },
     "execution_count": 14,
     "metadata": {},
     "output_type": "execute_result"
    }
   ],
   "source": [
    "data_train.shape[0]"
   ]
  },
  {
   "cell_type": "code",
   "execution_count": 17,
   "id": "8ce875f2",
   "metadata": {},
   "outputs": [
    {
     "data": {
      "text/plain": [
       "584"
      ]
     },
     "execution_count": 17,
     "metadata": {},
     "output_type": "execute_result"
    }
   ],
   "source": [
    "data_test.shape[0]"
   ]
  },
  {
   "cell_type": "code",
   "execution_count": 18,
   "id": "23752f92",
   "metadata": {},
   "outputs": [],
   "source": [
    "#scaling the data to fit between 0 and 1\n",
    "\n",
    "from sklearn.preprocessing import MinMaxScaler\n",
    "scaler = MinMaxScaler(feature_range=(0,1))\n",
    "data_train_scale = scaler.fit_transform(data_train)\n",
    " "
   ]
  },
  {
   "cell_type": "code",
   "execution_count": 20,
   "id": "6760c9e7",
   "metadata": {},
   "outputs": [],
   "source": [
    "#predicting the price based on the previous 100 days\n",
    "x = []\n",
    "y = []\n",
    "for i in range(100,data_train_scale.shape[0]):\n",
    "    x.append(data_train_scale[i-100:i])\n",
    "    y.append(data_train_scale[i,0])"
   ]
  },
  {
   "cell_type": "code",
   "execution_count": 24,
   "id": "77d19d85",
   "metadata": {},
   "outputs": [],
   "source": [
    "#converting them to numpy arrays\n",
    "x,y = np.array(x), np.array(y)"
   ]
  },
  {
   "cell_type": "code",
   "execution_count": 22,
   "id": "97874c64",
   "metadata": {},
   "outputs": [
    {
     "name": "stdout",
     "output_type": "stream",
     "text": [
      "WARNING:tensorflow:From C:\\Users\\FZ\\anaconda3\\lib\\site-packages\\keras\\src\\losses.py:2976: The name tf.losses.sparse_softmax_cross_entropy is deprecated. Please use tf.compat.v1.losses.sparse_softmax_cross_entropy instead.\n",
      "\n"
     ]
    }
   ],
   "source": [
    "from keras.layers import Dense,Dropout,LSTM\n",
    "from keras.models import Sequential\n",
    "\n"
   ]
  },
  {
   "cell_type": "code",
   "execution_count": 28,
   "id": "d3c0d78d",
   "metadata": {},
   "outputs": [],
   "source": [
    "model = Sequential()\n",
    "#each layer acts independently \n",
    "#units are neurons return sequences output of one layer is input of the next layer dropout is to avoid overfitting \n",
    "model.add(LSTM(units= 50, activation = 'relu', return_sequences = True, input_shape = ((x.shape[1],1))))\n",
    "model.add(Dropout(0.2))\n",
    "model.add(LSTM(units = 60,activation ='relu',return_sequences=True))\n",
    "model.add(Dropout(0.3))\n",
    "model.add(LSTM(units = 80, activation = 'relu',return_sequences=True))\n",
    "model.add(Dropout(0.4))\n",
    "\n",
    "model.add(LSTM(units = 120,activation = 'relu',return_sequences=True))\n",
    "model.add(Dropout(0.5))\n",
    "#this means only one value is being predicted\n",
    "model.add(Dense(units=1))"
   ]
  },
  {
   "cell_type": "code",
   "execution_count": 31,
   "id": "d710f578",
   "metadata": {},
   "outputs": [
    {
     "name": "stdout",
     "output_type": "stream",
     "text": [
      "WARNING:tensorflow:From C:\\Users\\FZ\\anaconda3\\lib\\site-packages\\keras\\src\\optimizers\\__init__.py:309: The name tf.train.Optimizer is deprecated. Please use tf.compat.v1.train.Optimizer instead.\n",
      "\n",
      "Epoch 1/70\n",
      "WARNING:tensorflow:From C:\\Users\\FZ\\anaconda3\\lib\\site-packages\\keras\\src\\utils\\tf_utils.py:492: The name tf.ragged.RaggedTensorValue is deprecated. Please use tf.compat.v1.ragged.RaggedTensorValue instead.\n",
      "\n",
      "70/70 [==============================] - 7s 61ms/step - loss: 0.0656\n",
      "Epoch 2/70\n",
      "70/70 [==============================] - 4s 60ms/step - loss: 0.0545\n",
      "Epoch 3/70\n",
      "70/70 [==============================] - 4s 61ms/step - loss: 0.0540\n",
      "Epoch 4/70\n",
      "70/70 [==============================] - 4s 60ms/step - loss: 0.0532\n",
      "Epoch 5/70\n",
      "70/70 [==============================] - 4s 60ms/step - loss: 0.0526\n",
      "Epoch 6/70\n",
      "70/70 [==============================] - 4s 60ms/step - loss: 0.0525\n",
      "Epoch 7/70\n",
      "70/70 [==============================] - 4s 61ms/step - loss: 0.0521\n",
      "Epoch 8/70\n",
      "70/70 [==============================] - 4s 60ms/step - loss: 0.0521\n",
      "Epoch 9/70\n",
      "70/70 [==============================] - 4s 60ms/step - loss: 0.0521\n",
      "Epoch 10/70\n",
      "70/70 [==============================] - 4s 60ms/step - loss: 0.0519\n",
      "Epoch 11/70\n",
      "70/70 [==============================] - 4s 60ms/step - loss: 0.0520\n",
      "Epoch 12/70\n",
      "70/70 [==============================] - 4s 60ms/step - loss: 0.0515\n",
      "Epoch 13/70\n",
      "70/70 [==============================] - 4s 60ms/step - loss: 0.0515\n",
      "Epoch 14/70\n",
      "70/70 [==============================] - 4s 59ms/step - loss: 0.0512\n",
      "Epoch 15/70\n",
      "70/70 [==============================] - 4s 60ms/step - loss: 0.0512\n",
      "Epoch 16/70\n",
      "70/70 [==============================] - 4s 60ms/step - loss: 0.0510\n",
      "Epoch 17/70\n",
      "70/70 [==============================] - 4s 59ms/step - loss: 0.0512\n",
      "Epoch 18/70\n",
      "70/70 [==============================] - 4s 59ms/step - loss: 0.0511\n",
      "Epoch 19/70\n",
      "70/70 [==============================] - 4s 59ms/step - loss: 0.0510\n",
      "Epoch 20/70\n",
      "70/70 [==============================] - 4s 59ms/step - loss: 0.0510\n",
      "Epoch 21/70\n",
      "70/70 [==============================] - 4s 59ms/step - loss: 0.0510\n",
      "Epoch 22/70\n",
      "70/70 [==============================] - 4s 59ms/step - loss: 0.0509\n",
      "Epoch 23/70\n",
      "70/70 [==============================] - 4s 59ms/step - loss: 0.0508\n",
      "Epoch 24/70\n",
      "70/70 [==============================] - 4s 60ms/step - loss: 0.0508\n",
      "Epoch 25/70\n",
      "70/70 [==============================] - 4s 59ms/step - loss: 0.0508\n",
      "Epoch 26/70\n",
      "70/70 [==============================] - 4s 58ms/step - loss: 0.0508\n",
      "Epoch 27/70\n",
      "70/70 [==============================] - 4s 58ms/step - loss: 0.0508\n",
      "Epoch 28/70\n",
      "70/70 [==============================] - 4s 59ms/step - loss: 0.0508\n",
      "Epoch 29/70\n",
      "70/70 [==============================] - 4s 59ms/step - loss: 0.0508\n",
      "Epoch 30/70\n",
      "70/70 [==============================] - 4s 60ms/step - loss: 0.0507\n",
      "Epoch 31/70\n",
      "70/70 [==============================] - 4s 58ms/step - loss: 0.0506\n",
      "Epoch 32/70\n",
      "70/70 [==============================] - 4s 58ms/step - loss: 0.0506\n",
      "Epoch 33/70\n",
      "70/70 [==============================] - 4s 59ms/step - loss: 0.0507\n",
      "Epoch 34/70\n",
      "70/70 [==============================] - 4s 59ms/step - loss: 0.0507\n",
      "Epoch 35/70\n",
      "70/70 [==============================] - 4s 59ms/step - loss: 0.0507\n",
      "Epoch 36/70\n",
      "70/70 [==============================] - 4s 59ms/step - loss: 0.0507\n",
      "Epoch 37/70\n",
      "70/70 [==============================] - 4s 59ms/step - loss: 0.0507\n",
      "Epoch 38/70\n",
      "70/70 [==============================] - 4s 62ms/step - loss: 0.0507\n",
      "Epoch 39/70\n",
      "70/70 [==============================] - 4s 61ms/step - loss: 0.0506\n",
      "Epoch 40/70\n",
      "70/70 [==============================] - 4s 62ms/step - loss: 0.0506\n",
      "Epoch 41/70\n",
      "70/70 [==============================] - 4s 61ms/step - loss: 0.0505\n",
      "Epoch 42/70\n",
      "70/70 [==============================] - 4s 61ms/step - loss: 0.0506\n",
      "Epoch 43/70\n",
      "70/70 [==============================] - 4s 60ms/step - loss: 0.0505\n",
      "Epoch 44/70\n",
      "70/70 [==============================] - 4s 61ms/step - loss: 0.0506\n",
      "Epoch 45/70\n",
      "70/70 [==============================] - 4s 59ms/step - loss: 0.0506\n",
      "Epoch 46/70\n",
      "70/70 [==============================] - 4s 60ms/step - loss: 0.0505\n",
      "Epoch 47/70\n",
      "70/70 [==============================] - 4s 59ms/step - loss: 0.0505\n",
      "Epoch 48/70\n",
      "70/70 [==============================] - 4s 59ms/step - loss: 0.0504\n",
      "Epoch 49/70\n",
      "70/70 [==============================] - 4s 59ms/step - loss: 0.0505\n",
      "Epoch 50/70\n",
      "70/70 [==============================] - 4s 59ms/step - loss: 0.0504\n",
      "Epoch 51/70\n",
      "70/70 [==============================] - 4s 59ms/step - loss: 0.0506\n",
      "Epoch 52/70\n",
      "70/70 [==============================] - 4s 61ms/step - loss: 0.0504\n",
      "Epoch 53/70\n",
      "70/70 [==============================] - 4s 61ms/step - loss: 0.0506\n",
      "Epoch 54/70\n",
      "70/70 [==============================] - 4s 60ms/step - loss: 0.0505\n",
      "Epoch 55/70\n",
      "70/70 [==============================] - 4s 61ms/step - loss: 0.0505\n",
      "Epoch 56/70\n",
      "70/70 [==============================] - 4s 60ms/step - loss: 0.0504\n",
      "Epoch 57/70\n",
      "70/70 [==============================] - 4s 59ms/step - loss: 0.0505\n",
      "Epoch 58/70\n",
      "70/70 [==============================] - 4s 60ms/step - loss: 0.0505\n",
      "Epoch 59/70\n",
      "70/70 [==============================] - 4s 60ms/step - loss: 0.0505\n",
      "Epoch 60/70\n",
      "70/70 [==============================] - 4s 59ms/step - loss: 0.0505\n",
      "Epoch 61/70\n",
      "70/70 [==============================] - 4s 60ms/step - loss: 0.0504\n",
      "Epoch 62/70\n",
      "70/70 [==============================] - 4s 60ms/step - loss: 0.0505\n",
      "Epoch 63/70\n",
      "70/70 [==============================] - 4s 60ms/step - loss: 0.0506\n",
      "Epoch 64/70\n",
      "70/70 [==============================] - 4s 61ms/step - loss: 0.0504\n",
      "Epoch 65/70\n",
      "70/70 [==============================] - 4s 61ms/step - loss: 0.0504\n",
      "Epoch 66/70\n",
      "70/70 [==============================] - 4s 59ms/step - loss: 0.0505\n",
      "Epoch 67/70\n",
      "70/70 [==============================] - 4s 60ms/step - loss: 0.0505\n",
      "Epoch 68/70\n",
      "70/70 [==============================] - 4s 59ms/step - loss: 0.0505\n",
      "Epoch 69/70\n",
      "70/70 [==============================] - 4s 59ms/step - loss: 0.0504\n",
      "Epoch 70/70\n",
      "70/70 [==============================] - 4s 63ms/step - loss: 0.0505\n"
     ]
    },
    {
     "data": {
      "text/plain": [
       "<keras.src.callbacks.History at 0x1e9582198a0>"
      ]
     },
     "execution_count": 31,
     "metadata": {},
     "output_type": "execute_result"
    }
   ],
   "source": [
    "model.compile(optimizer= 'adam', loss = 'mean_squared_error')\n",
    "model.fit(x,y,epochs = 70,batch_size=32,verbose = 1)"
   ]
  },
  {
   "cell_type": "code",
   "execution_count": 32,
   "id": "bc30df18",
   "metadata": {},
   "outputs": [
    {
     "name": "stdout",
     "output_type": "stream",
     "text": [
      "Model: \"sequential_4\"\n",
      "_________________________________________________________________\n",
      " Layer (type)                Output Shape              Param #   \n",
      "=================================================================\n",
      " lstm_9 (LSTM)               (None, 100, 50)           10400     \n",
      "                                                                 \n",
      " dropout_6 (Dropout)         (None, 100, 50)           0         \n",
      "                                                                 \n",
      " lstm_10 (LSTM)              (None, 100, 60)           26640     \n",
      "                                                                 \n",
      " dropout_7 (Dropout)         (None, 100, 60)           0         \n",
      "                                                                 \n",
      " lstm_11 (LSTM)              (None, 100, 80)           45120     \n",
      "                                                                 \n",
      " dropout_8 (Dropout)         (None, 100, 80)           0         \n",
      "                                                                 \n",
      " lstm_12 (LSTM)              (None, 100, 120)          96480     \n",
      "                                                                 \n",
      " dropout_9 (Dropout)         (None, 100, 120)          0         \n",
      "                                                                 \n",
      " dense (Dense)               (None, 100, 1)            121       \n",
      "                                                                 \n",
      "=================================================================\n",
      "Total params: 178761 (698.29 KB)\n",
      "Trainable params: 178761 (698.29 KB)\n",
      "Non-trainable params: 0 (0.00 Byte)\n",
      "_________________________________________________________________\n"
     ]
    }
   ],
   "source": [
    "model.summary()\n"
   ]
  },
  {
   "cell_type": "code",
   "execution_count": 33,
   "id": "cee75d61",
   "metadata": {},
   "outputs": [],
   "source": [
    "pas_100_days = data_train.tail(100)"
   ]
  },
  {
   "cell_type": "code",
   "execution_count": 34,
   "id": "e1db3f0b",
   "metadata": {},
   "outputs": [
    {
     "data": {
      "text/html": [
       "<div>\n",
       "<style scoped>\n",
       "    .dataframe tbody tr th:only-of-type {\n",
       "        vertical-align: middle;\n",
       "    }\n",
       "\n",
       "    .dataframe tbody tr th {\n",
       "        vertical-align: top;\n",
       "    }\n",
       "\n",
       "    .dataframe thead th {\n",
       "        text-align: right;\n",
       "    }\n",
       "</style>\n",
       "<table border=\"1\" class=\"dataframe\">\n",
       "  <thead>\n",
       "    <tr style=\"text-align: right;\">\n",
       "      <th></th>\n",
       "      <th>Close</th>\n",
       "    </tr>\n",
       "  </thead>\n",
       "  <tbody>\n",
       "    <tr>\n",
       "      <th>0</th>\n",
       "      <td>306.260010</td>\n",
       "    </tr>\n",
       "    <tr>\n",
       "      <th>1</th>\n",
       "      <td>313.089996</td>\n",
       "    </tr>\n",
       "    <tr>\n",
       "      <th>2</th>\n",
       "      <td>313.019989</td>\n",
       "    </tr>\n",
       "    <tr>\n",
       "      <th>3</th>\n",
       "      <td>312.459991</td>\n",
       "    </tr>\n",
       "    <tr>\n",
       "      <th>4</th>\n",
       "      <td>311.540009</td>\n",
       "    </tr>\n",
       "    <tr>\n",
       "      <th>...</th>\n",
       "      <td>...</td>\n",
       "    </tr>\n",
       "    <tr>\n",
       "      <th>679</th>\n",
       "      <td>333.170013</td>\n",
       "    </tr>\n",
       "    <tr>\n",
       "      <th>680</th>\n",
       "      <td>334.920013</td>\n",
       "    </tr>\n",
       "    <tr>\n",
       "      <th>681</th>\n",
       "      <td>344.619995</td>\n",
       "    </tr>\n",
       "    <tr>\n",
       "      <th>682</th>\n",
       "      <td>350.359985</td>\n",
       "    </tr>\n",
       "    <tr>\n",
       "      <th>683</th>\n",
       "      <td>349.279999</td>\n",
       "    </tr>\n",
       "  </tbody>\n",
       "</table>\n",
       "<p>684 rows × 1 columns</p>\n",
       "</div>"
      ],
      "text/plain": [
       "          Close\n",
       "0    306.260010\n",
       "1    313.089996\n",
       "2    313.019989\n",
       "3    312.459991\n",
       "4    311.540009\n",
       "..          ...\n",
       "679  333.170013\n",
       "680  334.920013\n",
       "681  344.619995\n",
       "682  350.359985\n",
       "683  349.279999\n",
       "\n",
       "[684 rows x 1 columns]"
      ]
     },
     "execution_count": 34,
     "metadata": {},
     "output_type": "execute_result"
    }
   ],
   "source": [
    "data_test = pd.concat([pas_100_days,data_test],ignore_index=True)\n",
    "data_test"
   ]
  },
  {
   "cell_type": "code",
   "execution_count": 35,
   "id": "6dd9b816",
   "metadata": {},
   "outputs": [],
   "source": [
    "data_test_scale = scaler.fit_transform(data_test)"
   ]
  },
  {
   "cell_type": "code",
   "execution_count": 44,
   "id": "fa5e33fa",
   "metadata": {},
   "outputs": [
    {
     "name": "stdout",
     "output_type": "stream",
     "text": [
      "19/19 [==============================] - 0s 20ms/step\n"
     ]
    }
   ],
   "source": [
    "x = []\n",
    "y = []\n",
    "for i in range(100,data_test_scale.shape[0]):\n",
    "    x.append(data_train_scale[i-100:i])\n",
    "    y.append(data_train_scale[i,0])\n",
    "x,y = np.array(x), np.array(y)    \n",
    "y_predict = model.predict(x)"
   ]
  },
  {
   "cell_type": "code",
   "execution_count": 48,
   "id": "04470bcd",
   "metadata": {},
   "outputs": [
    {
     "ename": "ValueError",
     "evalue": "Found array with dim 3. None expected <= 2.",
     "output_type": "error",
     "traceback": [
      "\u001b[1;31m---------------------------------------------------------------------------\u001b[0m",
      "\u001b[1;31mValueError\u001b[0m                                Traceback (most recent call last)",
      "Cell \u001b[1;32mIn[48], line 10\u001b[0m\n\u001b[0;32m      7\u001b[0m     y_predict_flat \u001b[38;5;241m=\u001b[39m y_predict\n\u001b[0;32m      9\u001b[0m \u001b[38;5;66;03m# Now y and y_predict_flat should both be 1D and directly comparable\u001b[39;00m\n\u001b[1;32m---> 10\u001b[0m mse \u001b[38;5;241m=\u001b[39m \u001b[43mmean_squared_error\u001b[49m\u001b[43m(\u001b[49m\u001b[43my\u001b[49m\u001b[43m,\u001b[49m\u001b[43m \u001b[49m\u001b[43my_predict_flat\u001b[49m\u001b[43m)\u001b[49m\n\u001b[0;32m     11\u001b[0m \u001b[38;5;28mprint\u001b[39m(\u001b[38;5;124mf\u001b[39m\u001b[38;5;124m\"\u001b[39m\u001b[38;5;124mMSE: \u001b[39m\u001b[38;5;132;01m{\u001b[39;00mmse\u001b[38;5;132;01m}\u001b[39;00m\u001b[38;5;124m\"\u001b[39m)\n",
      "File \u001b[1;32m~\\anaconda3\\lib\\site-packages\\sklearn\\metrics\\_regression.py:442\u001b[0m, in \u001b[0;36mmean_squared_error\u001b[1;34m(y_true, y_pred, sample_weight, multioutput, squared)\u001b[0m\n\u001b[0;32m    382\u001b[0m \u001b[38;5;28;01mdef\u001b[39;00m \u001b[38;5;21mmean_squared_error\u001b[39m(\n\u001b[0;32m    383\u001b[0m     y_true, y_pred, \u001b[38;5;241m*\u001b[39m, sample_weight\u001b[38;5;241m=\u001b[39m\u001b[38;5;28;01mNone\u001b[39;00m, multioutput\u001b[38;5;241m=\u001b[39m\u001b[38;5;124m\"\u001b[39m\u001b[38;5;124muniform_average\u001b[39m\u001b[38;5;124m\"\u001b[39m, squared\u001b[38;5;241m=\u001b[39m\u001b[38;5;28;01mTrue\u001b[39;00m\n\u001b[0;32m    384\u001b[0m ):\n\u001b[0;32m    385\u001b[0m     \u001b[38;5;124;03m\"\"\"Mean squared error regression loss.\u001b[39;00m\n\u001b[0;32m    386\u001b[0m \n\u001b[0;32m    387\u001b[0m \u001b[38;5;124;03m    Read more in the :ref:`User Guide <mean_squared_error>`.\u001b[39;00m\n\u001b[1;32m   (...)\u001b[0m\n\u001b[0;32m    440\u001b[0m \u001b[38;5;124;03m    0.825...\u001b[39;00m\n\u001b[0;32m    441\u001b[0m \u001b[38;5;124;03m    \"\"\"\u001b[39;00m\n\u001b[1;32m--> 442\u001b[0m     y_type, y_true, y_pred, multioutput \u001b[38;5;241m=\u001b[39m \u001b[43m_check_reg_targets\u001b[49m\u001b[43m(\u001b[49m\n\u001b[0;32m    443\u001b[0m \u001b[43m        \u001b[49m\u001b[43my_true\u001b[49m\u001b[43m,\u001b[49m\u001b[43m \u001b[49m\u001b[43my_pred\u001b[49m\u001b[43m,\u001b[49m\u001b[43m \u001b[49m\u001b[43mmultioutput\u001b[49m\n\u001b[0;32m    444\u001b[0m \u001b[43m    \u001b[49m\u001b[43m)\u001b[49m\n\u001b[0;32m    445\u001b[0m     check_consistent_length(y_true, y_pred, sample_weight)\n\u001b[0;32m    446\u001b[0m     output_errors \u001b[38;5;241m=\u001b[39m np\u001b[38;5;241m.\u001b[39maverage((y_true \u001b[38;5;241m-\u001b[39m y_pred) \u001b[38;5;241m*\u001b[39m\u001b[38;5;241m*\u001b[39m \u001b[38;5;241m2\u001b[39m, axis\u001b[38;5;241m=\u001b[39m\u001b[38;5;241m0\u001b[39m, weights\u001b[38;5;241m=\u001b[39msample_weight)\n",
      "File \u001b[1;32m~\\anaconda3\\lib\\site-packages\\sklearn\\metrics\\_regression.py:102\u001b[0m, in \u001b[0;36m_check_reg_targets\u001b[1;34m(y_true, y_pred, multioutput, dtype)\u001b[0m\n\u001b[0;32m    100\u001b[0m check_consistent_length(y_true, y_pred)\n\u001b[0;32m    101\u001b[0m y_true \u001b[38;5;241m=\u001b[39m check_array(y_true, ensure_2d\u001b[38;5;241m=\u001b[39m\u001b[38;5;28;01mFalse\u001b[39;00m, dtype\u001b[38;5;241m=\u001b[39mdtype)\n\u001b[1;32m--> 102\u001b[0m y_pred \u001b[38;5;241m=\u001b[39m \u001b[43mcheck_array\u001b[49m\u001b[43m(\u001b[49m\u001b[43my_pred\u001b[49m\u001b[43m,\u001b[49m\u001b[43m \u001b[49m\u001b[43mensure_2d\u001b[49m\u001b[38;5;241;43m=\u001b[39;49m\u001b[38;5;28;43;01mFalse\u001b[39;49;00m\u001b[43m,\u001b[49m\u001b[43m \u001b[49m\u001b[43mdtype\u001b[49m\u001b[38;5;241;43m=\u001b[39;49m\u001b[43mdtype\u001b[49m\u001b[43m)\u001b[49m\n\u001b[0;32m    104\u001b[0m \u001b[38;5;28;01mif\u001b[39;00m y_true\u001b[38;5;241m.\u001b[39mndim \u001b[38;5;241m==\u001b[39m \u001b[38;5;241m1\u001b[39m:\n\u001b[0;32m    105\u001b[0m     y_true \u001b[38;5;241m=\u001b[39m y_true\u001b[38;5;241m.\u001b[39mreshape((\u001b[38;5;241m-\u001b[39m\u001b[38;5;241m1\u001b[39m, \u001b[38;5;241m1\u001b[39m))\n",
      "File \u001b[1;32m~\\anaconda3\\lib\\site-packages\\sklearn\\utils\\validation.py:915\u001b[0m, in \u001b[0;36mcheck_array\u001b[1;34m(array, accept_sparse, accept_large_sparse, dtype, order, copy, force_all_finite, ensure_2d, allow_nd, ensure_min_samples, ensure_min_features, estimator, input_name)\u001b[0m\n\u001b[0;32m    910\u001b[0m     \u001b[38;5;28;01mraise\u001b[39;00m \u001b[38;5;167;01mValueError\u001b[39;00m(\n\u001b[0;32m    911\u001b[0m         \u001b[38;5;124m\"\u001b[39m\u001b[38;5;124mdtype=\u001b[39m\u001b[38;5;124m'\u001b[39m\u001b[38;5;124mnumeric\u001b[39m\u001b[38;5;124m'\u001b[39m\u001b[38;5;124m is not compatible with arrays of bytes/strings.\u001b[39m\u001b[38;5;124m\"\u001b[39m\n\u001b[0;32m    912\u001b[0m         \u001b[38;5;124m\"\u001b[39m\u001b[38;5;124mConvert your data to numeric values explicitly instead.\u001b[39m\u001b[38;5;124m\"\u001b[39m\n\u001b[0;32m    913\u001b[0m     )\n\u001b[0;32m    914\u001b[0m \u001b[38;5;28;01mif\u001b[39;00m \u001b[38;5;129;01mnot\u001b[39;00m allow_nd \u001b[38;5;129;01mand\u001b[39;00m array\u001b[38;5;241m.\u001b[39mndim \u001b[38;5;241m>\u001b[39m\u001b[38;5;241m=\u001b[39m \u001b[38;5;241m3\u001b[39m:\n\u001b[1;32m--> 915\u001b[0m     \u001b[38;5;28;01mraise\u001b[39;00m \u001b[38;5;167;01mValueError\u001b[39;00m(\n\u001b[0;32m    916\u001b[0m         \u001b[38;5;124m\"\u001b[39m\u001b[38;5;124mFound array with dim \u001b[39m\u001b[38;5;132;01m%d\u001b[39;00m\u001b[38;5;124m. \u001b[39m\u001b[38;5;132;01m%s\u001b[39;00m\u001b[38;5;124m expected <= 2.\u001b[39m\u001b[38;5;124m\"\u001b[39m\n\u001b[0;32m    917\u001b[0m         \u001b[38;5;241m%\u001b[39m (array\u001b[38;5;241m.\u001b[39mndim, estimator_name)\n\u001b[0;32m    918\u001b[0m     )\n\u001b[0;32m    920\u001b[0m \u001b[38;5;28;01mif\u001b[39;00m force_all_finite:\n\u001b[0;32m    921\u001b[0m     _assert_all_finite(\n\u001b[0;32m    922\u001b[0m         array,\n\u001b[0;32m    923\u001b[0m         input_name\u001b[38;5;241m=\u001b[39minput_name,\n\u001b[0;32m    924\u001b[0m         estimator_name\u001b[38;5;241m=\u001b[39mestimator_name,\n\u001b[0;32m    925\u001b[0m         allow_nan\u001b[38;5;241m=\u001b[39mforce_all_finite \u001b[38;5;241m==\u001b[39m \u001b[38;5;124m\"\u001b[39m\u001b[38;5;124mallow-nan\u001b[39m\u001b[38;5;124m\"\u001b[39m,\n\u001b[0;32m    926\u001b[0m     )\n",
      "\u001b[1;31mValueError\u001b[0m: Found array with dim 3. None expected <= 2."
     ]
    }
   ],
   "source": [
    "from sklearn.metrics import mean_squared_error\n",
    "\n",
    "# Flatten y_predict if it's 2D but with a single feature per sample\n",
    "if y_predict.ndim == 2 and y_predict.shape[1] == 1:\n",
    "    y_predict_flat = y_predict.flatten()\n",
    "else:\n",
    "    y_predict_flat = y_predict\n",
    "\n",
    "# Now y and y_predict_flat should both be 1D and directly comparable\n",
    "mse = mean_squared_error(y, y_predict_flat)\n",
    "print(f\"MSE: {mse}\")"
   ]
  },
  {
   "cell_type": "code",
   "execution_count": null,
   "id": "759c1a1f",
   "metadata": {},
   "outputs": [],
   "source": []
  }
 ],
 "metadata": {
  "kernelspec": {
   "display_name": "Python 3 (ipykernel)",
   "language": "python",
   "name": "python3"
  },
  "language_info": {
   "codemirror_mode": {
    "name": "ipython",
    "version": 3
   },
   "file_extension": ".py",
   "mimetype": "text/x-python",
   "name": "python",
   "nbconvert_exporter": "python",
   "pygments_lexer": "ipython3",
   "version": "3.10.9"
  }
 },
 "nbformat": 4,
 "nbformat_minor": 5
}
